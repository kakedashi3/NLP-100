{
  "cells": [
    {
      "cell_type": "markdown",
      "id": "5d2e8296-0efe-488a-9303-c53e0aac5573",
      "metadata": {
        "editable": true,
        "id": "5d2e8296-0efe-488a-9303-c53e0aac5573",
        "tags": []
      },
      "source": [
        "# 第1章: 準備運動"
      ]
    },
    {
      "cell_type": "markdown",
      "source": [
        "## レベル１"
      ],
      "metadata": {
        "id": "M30pVYXcdtKB"
      },
      "id": "M30pVYXcdtKB"
    },
    {
      "cell_type": "markdown",
      "source": [
        "Hello World"
      ],
      "metadata": {
        "id": "qiHUE2yUYWgJ"
      },
      "id": "qiHUE2yUYWgJ"
    },
    {
      "cell_type": "code",
      "source": [
        "print(\"Hello, World\")"
      ],
      "metadata": {
        "colab": {
          "base_uri": "https://localhost:8080/"
        },
        "id": "x-t-Apz5YiH-",
        "outputId": "f8b31395-e7db-44bd-fdc9-8f9e8bcc4243"
      },
      "id": "x-t-Apz5YiH-",
      "execution_count": 1,
      "outputs": [
        {
          "output_type": "stream",
          "name": "stdout",
          "text": [
            "Hello, World\n"
          ]
        }
      ]
    },
    {
      "cell_type": "markdown",
      "source": [
        "数値の出力"
      ],
      "metadata": {
        "id": "YU-ioAO5b1ZU"
      },
      "id": "YU-ioAO5b1ZU"
    },
    {
      "cell_type": "code",
      "source": [
        "print(42)"
      ],
      "metadata": {
        "colab": {
          "base_uri": "https://localhost:8080/"
        },
        "id": "C-NFgmsgb6bD",
        "outputId": "8b761719-5de1-46ec-8025-2f28ed2a73e8"
      },
      "id": "C-NFgmsgb6bD",
      "execution_count": 2,
      "outputs": [
        {
          "output_type": "stream",
          "name": "stdout",
          "text": [
            "42\n"
          ]
        }
      ]
    },
    {
      "cell_type": "markdown",
      "source": [
        "計算結果の出力"
      ],
      "metadata": {
        "id": "tzM-3BIOb8rM"
      },
      "id": "tzM-3BIOb8rM"
    },
    {
      "cell_type": "code",
      "source": [
        "print(1+2)"
      ],
      "metadata": {
        "colab": {
          "base_uri": "https://localhost:8080/"
        },
        "id": "D18-XjnrcAZL",
        "outputId": "4469cd96-2a12-4d36-b9d0-7f4e21daaf4a"
      },
      "id": "D18-XjnrcAZL",
      "execution_count": 3,
      "outputs": [
        {
          "output_type": "stream",
          "name": "stdout",
          "text": [
            "3\n"
          ]
        }
      ]
    },
    {
      "cell_type": "markdown",
      "source": [
        "複数の値を出力"
      ],
      "metadata": {
        "id": "nungD5qDcEBl"
      },
      "id": "nungD5qDcEBl"
    },
    {
      "cell_type": "code",
      "source": [
        "print(\"私の\", \"名前は\", \"かけだしです\")"
      ],
      "metadata": {
        "colab": {
          "base_uri": "https://localhost:8080/"
        },
        "id": "Sd5z60q3cJGH",
        "outputId": "cbf57677-483e-4901-c56d-b91192aad1c9"
      },
      "id": "Sd5z60q3cJGH",
      "execution_count": 4,
      "outputs": [
        {
          "output_type": "stream",
          "name": "stdout",
          "text": [
            "私の 名前は かけだしです\n"
          ]
        }
      ]
    },
    {
      "cell_type": "markdown",
      "source": [
        "改行なしで出力"
      ],
      "metadata": {
        "id": "A5et9lo4cN4J"
      },
      "id": "A5et9lo4cN4J"
    },
    {
      "cell_type": "code",
      "source": [
        "print(\"Hello\", end=\" \")\n",
        "print(\"World\")"
      ],
      "metadata": {
        "colab": {
          "base_uri": "https://localhost:8080/"
        },
        "id": "vNXG_J26cQew",
        "outputId": "2f43fbfd-a802-4118-e3c1-59ca1ca75243"
      },
      "id": "vNXG_J26cQew",
      "execution_count": 5,
      "outputs": [
        {
          "output_type": "stream",
          "name": "stdout",
          "text": [
            "Hello World\n"
          ]
        }
      ]
    },
    {
      "cell_type": "markdown",
      "source": [
        "## レベル２"
      ],
      "metadata": {
        "id": "KsAiiTiWdL4W"
      },
      "id": "KsAiiTiWdL4W"
    },
    {
      "cell_type": "markdown",
      "source": [
        "変数に値を代入して出力"
      ],
      "metadata": {
        "id": "G6J_MSqfdVyn"
      },
      "id": "G6J_MSqfdVyn"
    },
    {
      "cell_type": "code",
      "source": [
        "x = 10\n",
        "print(x)"
      ],
      "metadata": {
        "colab": {
          "base_uri": "https://localhost:8080/"
        },
        "id": "HdwILCuQdbmJ",
        "outputId": "eb884c97-a718-4bbf-aa21-f542c3d54ac4"
      },
      "id": "HdwILCuQdbmJ",
      "execution_count": 6,
      "outputs": [
        {
          "output_type": "stream",
          "name": "stdout",
          "text": [
            "10\n"
          ]
        }
      ]
    },
    {
      "cell_type": "markdown",
      "source": [
        "２つの数値を足し算"
      ],
      "metadata": {
        "id": "rIAEuhMedcVZ"
      },
      "id": "rIAEuhMedcVZ"
    },
    {
      "cell_type": "code",
      "source": [
        "a = 5\n",
        "b = 3\n",
        "print(a + b)"
      ],
      "metadata": {
        "colab": {
          "base_uri": "https://localhost:8080/"
        },
        "id": "QAlf7mbbdgtd",
        "outputId": "4d127ce7-14eb-49c2-d47a-39f3f1075e7b"
      },
      "id": "QAlf7mbbdgtd",
      "execution_count": 7,
      "outputs": [
        {
          "output_type": "stream",
          "name": "stdout",
          "text": [
            "8\n"
          ]
        }
      ]
    },
    {
      "cell_type": "markdown",
      "source": [
        "文字列を変数に入れて出力"
      ],
      "metadata": {
        "id": "4dwUnd7IdhDf"
      },
      "id": "4dwUnd7IdhDf"
    },
    {
      "cell_type": "code",
      "source": [
        "name = \"かけだし\"\n",
        "print(name)"
      ],
      "metadata": {
        "colab": {
          "base_uri": "https://localhost:8080/"
        },
        "id": "J0Smdvhddkb1",
        "outputId": "2a9a4cea-8d94-4b3a-f98e-47e1edc769b5"
      },
      "id": "J0Smdvhddkb1",
      "execution_count": 8,
      "outputs": [
        {
          "output_type": "stream",
          "name": "stdout",
          "text": [
            "かけだし\n"
          ]
        }
      ]
    },
    {
      "cell_type": "markdown",
      "source": [
        "簡単な引き算"
      ],
      "metadata": {
        "id": "jSErfoIcdmI3"
      },
      "id": "jSErfoIcdmI3"
    },
    {
      "cell_type": "code",
      "source": [
        "score = 100\n",
        "penalty = 15\n",
        "print(score - penalty)"
      ],
      "metadata": {
        "colab": {
          "base_uri": "https://localhost:8080/"
        },
        "id": "Cjm6wrwOdnlF",
        "outputId": "864ef0df-756a-42bc-afb4-510ad548e518"
      },
      "id": "Cjm6wrwOdnlF",
      "execution_count": 9,
      "outputs": [
        {
          "output_type": "stream",
          "name": "stdout",
          "text": [
            "85\n"
          ]
        }
      ]
    },
    {
      "cell_type": "markdown",
      "source": [
        "文字列の連結"
      ],
      "metadata": {
        "id": "jXhY-4WgdoxL"
      },
      "id": "jXhY-4WgdoxL"
    },
    {
      "cell_type": "code",
      "source": [
        "greeting = \"こんにちは\"\n",
        "target = \"世界\"\n",
        "print(greeting + target)"
      ],
      "metadata": {
        "colab": {
          "base_uri": "https://localhost:8080/"
        },
        "id": "qSGI24mWdrMp",
        "outputId": "3eac714c-5efd-4b96-946c-6e6a7f8b129c"
      },
      "id": "qSGI24mWdrMp",
      "execution_count": 10,
      "outputs": [
        {
          "output_type": "stream",
          "name": "stdout",
          "text": [
            "こんにちは世界\n"
          ]
        }
      ]
    },
    {
      "cell_type": "markdown",
      "source": [
        "## レベル３"
      ],
      "metadata": {
        "id": "dk6ISq3aeDOA"
      },
      "id": "dk6ISq3aeDOA"
    },
    {
      "cell_type": "markdown",
      "source": [
        "基本的なforループ"
      ],
      "metadata": {
        "id": "cFis2RyAeFSO"
      },
      "id": "cFis2RyAeFSO"
    },
    {
      "cell_type": "code",
      "source": [
        "for apple in range(5):\n",
        "  print(apple)"
      ],
      "metadata": {
        "colab": {
          "base_uri": "https://localhost:8080/"
        },
        "id": "_i_zp0t_eImL",
        "outputId": "44436ca9-570a-40b9-a850-ffdc561f3192"
      },
      "id": "_i_zp0t_eImL",
      "execution_count": 13,
      "outputs": [
        {
          "output_type": "stream",
          "name": "stdout",
          "text": [
            "0\n",
            "1\n",
            "2\n",
            "3\n",
            "4\n"
          ]
        }
      ]
    },
    {
      "cell_type": "markdown",
      "source": [
        "リストの要素を順番に出力"
      ],
      "metadata": {
        "id": "_gDhSMGAeJAm"
      },
      "id": "_gDhSMGAeJAm"
    },
    {
      "cell_type": "code",
      "source": [
        "fruits = [\"りんご\", \"バナナ\", \"みかん\", \"オレンジ\"]\n",
        "for fruits in fruits:\n",
        "  print(fruits)"
      ],
      "metadata": {
        "colab": {
          "base_uri": "https://localhost:8080/"
        },
        "id": "ALlBbatBeNE6",
        "outputId": "801ec017-15c8-4ead-c998-bd09a50c4813"
      },
      "id": "ALlBbatBeNE6",
      "execution_count": 15,
      "outputs": [
        {
          "output_type": "stream",
          "name": "stdout",
          "text": [
            "りんご\n",
            "バナナ\n",
            "みかん\n",
            "オレンジ\n"
          ]
        }
      ]
    },
    {
      "cell_type": "markdown",
      "source": [
        "条件分岐（if文）"
      ],
      "metadata": {
        "id": "yJ9rYE5YeNiA"
      },
      "id": "yJ9rYE5YeNiA"
    },
    {
      "cell_type": "code",
      "source": [],
      "metadata": {
        "id": "Zqmj9NEoeRL_"
      },
      "id": "Zqmj9NEoeRL_",
      "execution_count": null,
      "outputs": []
    },
    {
      "cell_type": "markdown",
      "source": [
        "入力を受け取ってから出力"
      ],
      "metadata": {
        "id": "iVdcJXfyeRlG"
      },
      "id": "iVdcJXfyeRlG"
    },
    {
      "cell_type": "code",
      "source": [],
      "metadata": {
        "id": "qLQlgQk5eViz"
      },
      "id": "qLQlgQk5eViz",
      "execution_count": null,
      "outputs": []
    },
    {
      "cell_type": "markdown",
      "source": [
        "whileループ"
      ],
      "metadata": {
        "id": "S0Hjt5EEeV4E"
      },
      "id": "S0Hjt5EEeV4E"
    },
    {
      "cell_type": "code",
      "source": [],
      "metadata": {
        "id": "TB1kSSufeZSX"
      },
      "id": "TB1kSSufeZSX",
      "execution_count": null,
      "outputs": []
    },
    {
      "cell_type": "markdown",
      "source": [
        "## レベル４"
      ],
      "metadata": {
        "id": "cjDQu27glfFj"
      },
      "id": "cjDQu27glfFj"
    },
    {
      "cell_type": "markdown",
      "source": [
        "リストの内包表記"
      ],
      "metadata": {
        "id": "Tvy9H8X-lhKE"
      },
      "id": "Tvy9H8X-lhKE"
    },
    {
      "cell_type": "code",
      "source": [],
      "metadata": {
        "id": "rL17JsCylkA8"
      },
      "id": "rL17JsCylkA8",
      "execution_count": null,
      "outputs": []
    },
    {
      "cell_type": "markdown",
      "source": [
        "辞書の操作"
      ],
      "metadata": {
        "id": "61nPTdBaokik"
      },
      "id": "61nPTdBaokik"
    },
    {
      "cell_type": "code",
      "source": [],
      "metadata": {
        "id": "0s8_JSF6oqDB"
      },
      "id": "0s8_JSF6oqDB",
      "execution_count": null,
      "outputs": []
    },
    {
      "cell_type": "markdown",
      "source": [
        "関数の定義と呼び出し"
      ],
      "metadata": {
        "id": "bmlAIVSjoquJ"
      },
      "id": "bmlAIVSjoquJ"
    },
    {
      "cell_type": "code",
      "source": [],
      "metadata": {
        "id": "2qemZltuoto_"
      },
      "id": "2qemZltuoto_",
      "execution_count": null,
      "outputs": []
    },
    {
      "cell_type": "markdown",
      "source": [
        "文字列メソッドの使用"
      ],
      "metadata": {
        "id": "5ltsjYwgouPm"
      },
      "id": "5ltsjYwgouPm"
    },
    {
      "cell_type": "code",
      "source": [],
      "metadata": {
        "id": "CA8BA4Huow4n"
      },
      "id": "CA8BA4Huow4n",
      "execution_count": null,
      "outputs": []
    },
    {
      "cell_type": "markdown",
      "source": [
        "enumerateを使ったループ"
      ],
      "metadata": {
        "id": "U2ut7PX5oxnb"
      },
      "id": "U2ut7PX5oxnb"
    },
    {
      "cell_type": "code",
      "source": [],
      "metadata": {
        "id": "qiURmDZOo2bL"
      },
      "id": "qiURmDZOo2bL",
      "execution_count": null,
      "outputs": []
    },
    {
      "cell_type": "markdown",
      "source": [
        "## レベル５"
      ],
      "metadata": {
        "id": "O8-bhzrfo3gN"
      },
      "id": "O8-bhzrfo3gN"
    },
    {
      "cell_type": "markdown",
      "source": [
        "複数の条件を組み合わせた関数"
      ],
      "metadata": {
        "id": "5KQ06rT2o6Y_"
      },
      "id": "5KQ06rT2o6Y_"
    },
    {
      "cell_type": "code",
      "source": [],
      "metadata": {
        "id": "VAh1UeGro-41"
      },
      "id": "VAh1UeGro-41",
      "execution_count": null,
      "outputs": []
    },
    {
      "cell_type": "markdown",
      "source": [
        "ファイル読み込みと例外処理"
      ],
      "metadata": {
        "id": "hmULJx4Bo_Ps"
      },
      "id": "hmULJx4Bo_Ps"
    },
    {
      "cell_type": "code",
      "source": [],
      "metadata": {
        "id": "7lbZa-OKsL8g"
      },
      "id": "7lbZa-OKsL8g",
      "execution_count": null,
      "outputs": []
    },
    {
      "cell_type": "markdown",
      "source": [
        "lambda関数とfilter/map"
      ],
      "metadata": {
        "id": "bv29xtb1sMQk"
      },
      "id": "bv29xtb1sMQk"
    },
    {
      "cell_type": "code",
      "source": [],
      "metadata": {
        "id": "ZEYAhANCsN2g"
      },
      "id": "ZEYAhANCsN2g",
      "execution_count": null,
      "outputs": []
    },
    {
      "cell_type": "markdown",
      "source": [
        "辞書のキーでソートと集計"
      ],
      "metadata": {
        "id": "uke-oZP7sPXG"
      },
      "id": "uke-oZP7sPXG"
    },
    {
      "cell_type": "code",
      "source": [],
      "metadata": {
        "id": "j8TIzU5qsP5K"
      },
      "id": "j8TIzU5qsP5K",
      "execution_count": null,
      "outputs": []
    },
    {
      "cell_type": "markdown",
      "id": "b25a842d-828c-4fcd-b23e-62fcdbabc4dd",
      "metadata": {
        "editable": true,
        "id": "b25a842d-828c-4fcd-b23e-62fcdbabc4dd",
        "tags": []
      },
      "source": [
        "## 00. パタトクカシーー\n",
        "2つの文字列「パトカー」と「タクシー」の文字を先頭から交互に連結し、文字列「パタトクカシーー」を得よ。"
      ]
    },
    {
      "cell_type": "code",
      "source": [
        "s1, s2 = \"パトカー\", \"タクシー\"\n",
        "result = \"\".join(s1[i] + s2[i] for i in range(len(s1)))"
      ],
      "metadata": {
        "id": "nH24-jlzqlJQ"
      },
      "id": "nH24-jlzqlJQ",
      "execution_count": null,
      "outputs": []
    },
    {
      "cell_type": "markdown",
      "id": "552596a9-f286-49b1-8443-ceb3454889e0",
      "metadata": {
        "editable": true,
        "id": "552596a9-f286-49b1-8443-ceb3454889e0",
        "tags": []
      },
      "source": [
        "## 01. タクシー\n",
        "文字列「パタトクカシーー」の2, 4, 6, 8文字目を取り出し、それらを連結した文字列を得よ。"
      ]
    },
    {
      "cell_type": "code",
      "source": [
        "s = \"パタトクカシーー\"\n",
        "result = s[1] + s[3] + s[5] + s[7]\n",
        "print(result)"
      ],
      "metadata": {
        "id": "SSwJFdXSvljT",
        "outputId": "16913f46-0652-4576-991e-dddf1a4cb6ce",
        "colab": {
          "base_uri": "https://localhost:8080/"
        }
      },
      "id": "SSwJFdXSvljT",
      "execution_count": null,
      "outputs": [
        {
          "output_type": "stream",
          "name": "stdout",
          "text": [
            "タクシー\n"
          ]
        }
      ]
    },
    {
      "cell_type": "markdown",
      "id": "1c0a9a7c-4ade-4023-9f44-fc9cf394978b",
      "metadata": {
        "editable": true,
        "id": "1c0a9a7c-4ade-4023-9f44-fc9cf394978b",
        "tags": []
      },
      "source": [
        "## 02. 文字列の逆順\n",
        "文字列\"stressed\"の文字を逆に（末尾から先頭に向かって）並べた文字列を得よ。"
      ]
    },
    {
      "cell_type": "code",
      "source": [],
      "metadata": {
        "id": "T1UHyQFx4QrQ"
      },
      "id": "T1UHyQFx4QrQ",
      "execution_count": null,
      "outputs": []
    },
    {
      "cell_type": "markdown",
      "id": "4161bcb5-5baf-4172-b2a6-7c14f1907d54",
      "metadata": {
        "id": "4161bcb5-5baf-4172-b2a6-7c14f1907d54"
      },
      "source": [
        "## 03. 円周率\n",
        "\"Now I need a drink, alcoholic of course, after the heavy lectures involving quantum mechanics.\"という文を単語に分解し、各単語の（アルファベットの）文字数を先頭から出現順に並べたリストを作成せよ。"
      ]
    },
    {
      "cell_type": "code",
      "source": [],
      "metadata": {
        "id": "QYmtWCd_4RLz"
      },
      "id": "QYmtWCd_4RLz",
      "execution_count": null,
      "outputs": []
    },
    {
      "cell_type": "markdown",
      "id": "8e56c958-d6fb-411c-9dc6-77992c515637",
      "metadata": {
        "id": "8e56c958-d6fb-411c-9dc6-77992c515637"
      },
      "source": [
        "## 04. 元素記号\n",
        "\"Hi He Lied Because Boron Could Not Oxidize Fluorine. New Nations Might Also Sign Peace Security Clause. Arthur King Can.\"という文を単語に分解し、1, 5, 6, 7, 8, 9, 15, 16, 19番目の単語は先頭の1文字、それ以外の単語は先頭の2文字を取り出し、取り出した文字列から単語の位置（先頭から何番目の単語か）への連想配列（辞書型もしくはマップ型）を作成せよ。"
      ]
    },
    {
      "cell_type": "code",
      "source": [],
      "metadata": {
        "id": "Cn8xI_TA4Rfe"
      },
      "id": "Cn8xI_TA4Rfe",
      "execution_count": null,
      "outputs": []
    },
    {
      "cell_type": "markdown",
      "id": "5269dd34-1b19-4a99-9e3d-593e978f3361",
      "metadata": {
        "id": "5269dd34-1b19-4a99-9e3d-593e978f3361"
      },
      "source": [
        "## 05. n-gram\n",
        "与えられたシーケンス（文字列やリストなど）からn-gramを作る関数を作成せよ。この関数を用い、\"I am an NLPer\"という文から文字tri-gram、単語bi-gramを得よ。"
      ]
    },
    {
      "cell_type": "code",
      "source": [],
      "metadata": {
        "id": "I7KB0t1o4Ry6"
      },
      "id": "I7KB0t1o4Ry6",
      "execution_count": null,
      "outputs": []
    },
    {
      "cell_type": "markdown",
      "id": "15df1a31-7906-4562-b5c5-b52194487ea9",
      "metadata": {
        "id": "15df1a31-7906-4562-b5c5-b52194487ea9"
      },
      "source": [
        "## 06. 集合\n",
        "\"paraparaparadise\"と\"paragraph\"に含まれる文字bi-gramの集合を、それぞれ, $X$ と $Y$ として求め、$X$ と $Y$ の和集合（$X \\cup Y$）、積集合（$X \\cap Y$）、差集合（$X \\setminus Y$）を求めよ。さらに、'se'というbi-gramがXおよびYに含まれるかどうかを調べよ。"
      ]
    },
    {
      "cell_type": "code",
      "source": [],
      "metadata": {
        "id": "yM9vw1On4SFm"
      },
      "id": "yM9vw1On4SFm",
      "execution_count": null,
      "outputs": []
    },
    {
      "cell_type": "markdown",
      "id": "90b9bdde-e35c-4dc5-a46d-f7a8dd6d6513",
      "metadata": {
        "id": "90b9bdde-e35c-4dc5-a46d-f7a8dd6d6513"
      },
      "source": [
        "## 07. テンプレートによる文生成\n",
        "引数x, y, zを受け取り「x時のyはz」という文字列を返す関数を実装せよ。さらに、x=12, y=\"気温\", z=22.4として、実行結果を確認せよ。"
      ]
    },
    {
      "cell_type": "code",
      "source": [],
      "metadata": {
        "id": "K12rI2b14SYO"
      },
      "id": "K12rI2b14SYO",
      "execution_count": null,
      "outputs": []
    },
    {
      "cell_type": "markdown",
      "id": "215bd86b-1b3c-4446-98ae-af5d671fba12",
      "metadata": {
        "id": "215bd86b-1b3c-4446-98ae-af5d671fba12"
      },
      "source": [
        "## 08. 暗号文\n",
        "与えられた文字列の各文字を、以下の仕様で変換する関数cipherを実装せよ。\n",
        "\n",
        "* 英小文字ならば (219 - 文字コード) のASCIIコードに対応する文字に置換\n",
        "* その他の文字はそのまま出力\n",
        "\n",
        "この関数を用い、英語のメッセージを暗号化・復号化せよ。"
      ]
    },
    {
      "cell_type": "code",
      "source": [],
      "metadata": {
        "id": "01PmsR3g4Sus"
      },
      "id": "01PmsR3g4Sus",
      "execution_count": null,
      "outputs": []
    },
    {
      "cell_type": "markdown",
      "id": "64c1bdae-5ce3-4128-86be-23ce079a2d98",
      "metadata": {
        "id": "64c1bdae-5ce3-4128-86be-23ce079a2d98"
      },
      "source": [
        "## 09. Typoglycemia\n",
        "スペースで区切られた単語列に対して、各単語の先頭と末尾の文字は残し、それ以外の文字の順序をランダムに並び替えるプログラムを作成せよ。ただし、長さが４以下の単語は並び替えないこととする。適当な英語の文（例えば\"I couldn't believe that I could actually understand what I was reading : the phenomenal power of the human mind .\"）を与え、その実行結果を確認せよ。"
      ]
    },
    {
      "cell_type": "code",
      "source": [],
      "metadata": {
        "id": "bht6kvcN4Tmq"
      },
      "id": "bht6kvcN4Tmq",
      "execution_count": null,
      "outputs": []
    },
    {
      "cell_type": "markdown",
      "source": [
        "## 10. 文字カウント\n",
        "文字列「Hello, World!」に含まれる各文字の出現回数を辞書形式で求めよ。"
      ],
      "metadata": {
        "id": "juArfw9cyO12"
      },
      "id": "juArfw9cyO12"
    },
    {
      "cell_type": "code",
      "source": [],
      "metadata": {
        "id": "Ca-ALduk4UiZ"
      },
      "id": "Ca-ALduk4UiZ",
      "execution_count": null,
      "outputs": []
    }
  ],
  "metadata": {
    "colab": {
      "provenance": []
    },
    "kernelspec": {
      "display_name": "Python 3",
      "name": "python3"
    },
    "language_info": {
      "codemirror_mode": {
        "name": "ipython",
        "version": 3
      },
      "file_extension": ".py",
      "mimetype": "text/x-python",
      "name": "python",
      "nbconvert_exporter": "python",
      "pygments_lexer": "ipython3",
      "version": "3.12.3"
    }
  },
  "nbformat": 4,
  "nbformat_minor": 5
}